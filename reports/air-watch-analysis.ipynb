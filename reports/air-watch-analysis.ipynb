{
 "cells": [
  {
   "cell_type": "code",
   "execution_count": 38,
   "metadata": {
    "collapsed": false
   },
   "outputs": [],
   "source": [
    "import pandas as pd\n",
    "from bs4 import BeautifulSoup\n",
    "from collections import deque, OrderedDict\n",
    "import os,datetime, pytz, calendar, urllib2, json, re"
   ]
  },
  {
   "cell_type": "code",
   "execution_count": 39,
   "metadata": {
    "collapsed": false
   },
   "outputs": [],
   "source": [
    "#area name and associated feed IDs\n",
    "areas = [{\n",
    "    \"Atchison Village\" : {\n",
    "        4910 : {},\n",
    "        4909 : {}},\n",
    "    \"North Richmond\" : {\n",
    "        4911 : {},\n",
    "        4912 : {}},\n",
    "    \"Point Richmond\" : {\n",
    "        4913 : {},\n",
    "        4914 : {}}\n",
    "    },{\n",
    "    \"Rodeo\" : {\n",
    "        4901 : {},\n",
    "        4902 : {},\n",
    "        10011 : {}}\n",
    "    }];\n",
    "\n",
    "#chemical names and associated health threshold\n",
    "channels = OrderedDict([(\"Benzene\", 1), (\"Black_Carbon\", 5), (\"Ethylbenzene\", 60), (\"Hydrogen_Sulfide\", 8),(\"Sulfur_Dioxide\", 75),\n",
    "            (\"Toluene\", 70),(\"Xylene\", 50)])\n",
    "channelNames = channels.keys()\n",
    "\n",
    "detectionLimits = pd.DataFrame.from_items([\n",
    "        ('Fenceline', [5,None,None,30,5,5,5]),\n",
    "        ('Community', [0.5,0.05,0.5,2,None,0.5,0.5]),\n",
    "        ('Hound', [30,None,None,30,None,30,30]),  \n",
    "    ],orient='index', columns=channelNames)"
   ]
  },
  {
   "cell_type": "code",
   "execution_count": 40,
   "metadata": {
    "collapsed": true
   },
   "outputs": [],
   "source": [
    "#-------------------------------------------------------------------\n",
    "#\n",
    "#HELPER FUNCTIONS\n",
    "#\n",
    "#-------------------------------------------------------------------"
   ]
  },
  {
   "cell_type": "code",
   "execution_count": 41,
   "metadata": {
    "collapsed": true
   },
   "outputs": [],
   "source": [
    "def isRodeo(feed):\n",
    "    return 4900 < feed < 4903"
   ]
  },
  {
   "cell_type": "code",
   "execution_count": 42,
   "metadata": {
    "collapsed": true
   },
   "outputs": [],
   "source": [
    "def isRichmondCommunity(feed):\n",
    "    return feed == 4910 or feed == 4912 or feed == 4914"
   ]
  },
  {
   "cell_type": "code",
   "execution_count": 43,
   "metadata": {
    "collapsed": false
   },
   "outputs": [],
   "source": [
    "def getFeedType(feed):\n",
    "    feedTypes = {\"Fenceline\" : [4909,4911,4913,4901,4902], \"Community\" : [4910,4912,4914],\n",
    "                 \"Hound\": [10011]}\n",
    "    for t in feedTypes:\n",
    "        if feed in feedTypes[t]:\n",
    "            return t\n",
    "#getFeedType(10011)"
   ]
  },
  {
   "cell_type": "code",
   "execution_count": 44,
   "metadata": {
    "collapsed": false
   },
   "outputs": [],
   "source": [
    "def addPrefix(feed, chemical):\n",
    "    if isRodeo(feed) and chemical == \"Hydrogen_Sulfide\":\n",
    "        return \"TDL_\"+chemical\n",
    "    elif isRodeo(feed):\n",
    "        return \"UV_\"+chemical\n",
    "    elif isRichmondCommunity(feed) and chemical == \"Xylene\":\n",
    "        return \"m_p_Xylene,o_Xylene\"\n",
    "    else:\n",
    "        return chemical"
   ]
  },
  {
   "cell_type": "code",
   "execution_count": 45,
   "metadata": {
    "collapsed": true
   },
   "outputs": [],
   "source": [
    "def slicePrefix(chan):\n",
    "    if re.match('[A-Z]+_',chan):\n",
    "        return chan[chan.find('_') + 1:]\n",
    "    else:\n",
    "        return chan"
   ]
  },
  {
   "cell_type": "code",
   "execution_count": 46,
   "metadata": {
    "collapsed": true
   },
   "outputs": [],
   "source": [
    "def unit(chemical):\n",
    "    if chemical == \"Black_Carbon\":\n",
    "        return \"µg/m³\"\n",
    "    else:\n",
    "        return \"ppb\""
   ]
  },
  {
   "cell_type": "code",
   "execution_count": 47,
   "metadata": {
    "collapsed": false
   },
   "outputs": [],
   "source": [
    "def generateHealthFactor(value, chemical):\n",
    "    healthLimit = channels[chemical]\n",
    "    factor = value/healthLimit\n",
    "    if factor % 1 >= 0.5:\n",
    "        prepend = \"almost \"\n",
    "    else:\n",
    "        prepend = \"over \"\n",
    "    return prepend + str(int(round(factor))) + \"x\"\n",
    "#generateHealthFactor(1.59655, \"Benzene\")"
   ]
  },
  {
   "cell_type": "code",
   "execution_count": 48,
   "metadata": {
    "collapsed": false
   },
   "outputs": [],
   "source": [
    "def noData(n):\n",
    "    ret = []\n",
    "    for i in range (0,n):\n",
    "        ret.append(\"No data\")\n",
    "    return ret"
   ]
  },
  {
   "cell_type": "code",
   "execution_count": 49,
   "metadata": {
    "collapsed": false
   },
   "outputs": [],
   "source": [
    "#returns start and end timestamps of provided date\n",
    "def getEpochTimeBounds(d, duration=1):\n",
    "    dt = assignPacificTimeZone(datetime.datetime(d.year,d.month,d.day))\n",
    "\n",
    "    start = calendar.timegm(dt.utctimetuple())\n",
    "    end = calendar.timegm((dt + datetime.timedelta(days=duration)).utctimetuple())\n",
    "    return {'start' : start, 'end': end}\n",
    "#getEpochTimeBounds(datetime.date(2017,2,1))"
   ]
  },
  {
   "cell_type": "code",
   "execution_count": 50,
   "metadata": {
    "collapsed": true
   },
   "outputs": [],
   "source": [
    "#attach DST aware timezone offset\n",
    "#Note: does not convert time\n",
    "def assignPacificTimeZone(dt):\n",
    "    pacific = pytz.timezone(\"US/Pacific\")\n",
    "    dt = pacific.localize(dt)\n",
    "    return dt"
   ]
  },
  {
   "cell_type": "code",
   "execution_count": 51,
   "metadata": {
    "collapsed": false
   },
   "outputs": [],
   "source": [
    "#convert either a unix timestamp or a datetime with tzinfo to a datetime in Pacific time\n",
    "def convertToPacific(time):\n",
    "    if not isinstance(time,datetime.datetime):\n",
    "        time = datetime.datetime.fromtimestamp(time,tz=pytz.utc)\n",
    "    pacific = pytz.timezone(\"US/Pacific\")\n",
    "    inPacific = time.astimezone(pacific)\n",
    "    return inPacific"
   ]
  },
  {
   "cell_type": "code",
   "execution_count": 52,
   "metadata": {
    "collapsed": false
   },
   "outputs": [],
   "source": [
    "def fillDatum(inputArr,hole):\n",
    "    data = inputArr.popleft()\n",
    "    if not (re.match('0.00+',data) or re.search('\\s0x',data) or re.match('nan',data)):\n",
    "        hole.string = data"
   ]
  },
  {
   "cell_type": "code",
   "execution_count": 53,
   "metadata": {
    "collapsed": true
   },
   "outputs": [],
   "source": [
    "#-------------------------------------------------------------------\n",
    "#\n",
    "#ANALYSIS FUNCTIONS\n",
    "#\n",
    "#-------------------------------------------------------------------"
   ]
  },
  {
   "cell_type": "code",
   "execution_count": 54,
   "metadata": {
    "collapsed": false
   },
   "outputs": [],
   "source": [
    "#def calcDownTime(df):"
   ]
  },
  {
   "cell_type": "code",
   "execution_count": 55,
   "metadata": {
    "collapsed": false
   },
   "outputs": [],
   "source": [
    "def maxHourlyAverage(df, windFeed, channel):\n",
    "    ret = []\n",
    "    halfHourInSecs = 30 * 60\n",
    "    def avg(x, delta):\n",
    "        ser = df.iloc[(df.index >= x - delta) & (df.index <= x + delta), 0]\n",
    "        return ser.mean()\n",
    "    \n",
    "    healthLimit = 1\n",
    "    df['avg'] = pd.Series(data = df.index, index = df.index).apply(lambda x: avg(x,delta=halfHourInSecs))\n",
    "    maxAvg = df.nlargest(1,'avg')\n",
    "    maxAvgValue = maxAvg.avg.iloc[0]\n",
    "    ret.append(\"%.2f\" % maxAvgValue + unit(channel))\n",
    "    \n",
    "    #don't calculate time and wind data if max average was 0 (below detection limit)\n",
    "    if maxAvgValue != 0:\n",
    "        ret.append(generateHealthFactor(maxAvgValue,channel))\n",
    "    \n",
    "        hourStart = convertToPacific(maxAvg.index[0] - halfHourInSecs).strftime('%I:%M')\n",
    "        hourEnd = convertToPacific(maxAvg.index[0] + halfHourInSecs).strftime('%I:%M%p')\n",
    "        ret.append(hourStart + \"-\" + hourEnd)\n",
    "    \n",
    "        #get wind data for hour with highest average\n",
    "        bounds = {'start':maxAvg.index[0] - halfHourInSecs,'end':maxAvg.index[0] + halfHourInSecs}\n",
    "        wind = makeDataFrameFromEsdr(windFeed,\"Wind_Direction,Wind_Speed_MPH\",\"Wind_Direction,Wind_Speed_MPH\",{'bounds':bounds})\n",
    "        \n",
    "        if len(wind) == 0 or wind['Wind_Direction'].mean() == 0:\n",
    "            ret.append(\"No data\")\n",
    "        else:\n",
    "            #break into quadrants and select the prevailing one\n",
    "            quads = [0,90,180,270,360]\n",
    "            quad_names = ['NE','SE','SW','NW']\n",
    "            wind['Compass_Dir'] = pd.cut(wind['Wind_Direction'],quads,labels=quad_names)\n",
    "            direction = wind.groupby('Compass_Dir').sum().nlargest(1,'Wind_Speed_MPH').index[0]\n",
    "            ret.append(direction)\n",
    "    else:\n",
    "        ret.extend(['0.00','0.00','0.00'])\n",
    "    return ret\n",
    "#maxHourlyAverage(df, 4914, \"Benzene\")"
   ]
  },
  {
   "cell_type": "code",
   "execution_count": 56,
   "metadata": {
    "collapsed": false
   },
   "outputs": [],
   "source": [
    "#total time, in hours, that a detection was present of given chemical or aggregated set of chemicals\n",
    "def calcHoursDetected(df, chemical, sampleFrequency = 1):\n",
    "    detected = df.loc[df[chemical] > 0, [chemical]]\n",
    "    fullDecimal = sampleFrequency * len(detected) / float(60)\n",
    "    return \"%.2f\" % fullDecimal + \" hours\"\n",
    "#calcHoursDetected(df, \"Benzene\")"
   ]
  },
  {
   "cell_type": "code",
   "execution_count": 57,
   "metadata": {
    "collapsed": false
   },
   "outputs": [],
   "source": [
    "#total time, in hours, that detection was greater than health threshold of given chemical\n",
    "def calcHoursAboveHealthLimit(df, chemical, sampleFrequency = 1):\n",
    "    limit = channels[chemical]\n",
    "    detected = df.loc[df[chemical] > limit, [chemical]]\n",
    "    fullDecimal = sampleFrequency * len(detected) / float(60)\n",
    "    return \"%.2f\" % fullDecimal + \" hours\"\n",
    "#calcHoursAboveHealthLimit(df, \"Benzene\")"
   ]
  },
  {
   "cell_type": "code",
   "execution_count": 58,
   "metadata": {
    "collapsed": false
   },
   "outputs": [],
   "source": [
    "def calcDailyMean(df, chemical, nd=0):\n",
    "    if nd == 0:\n",
    "        fullDecimal = df[chemical].mean()\n",
    "    else:\n",
    "        #substitute readings of 0 for the passed-in non-detect value\n",
    "        #(which should represent that chemicals' detection limit)\n",
    "        fullDecimal = df.replace(0.0,nd)[chemical].mean()\n",
    "    return \"%.2f\" % fullDecimal + unit(chemical)\n",
    "#calcDailyMean(df,\"Benzene\", 0.5)"
   ]
  },
  {
   "cell_type": "code",
   "execution_count": 59,
   "metadata": {
    "collapsed": true
   },
   "outputs": [],
   "source": [
    "#-------------------------------------------------------------------\n",
    "#\n",
    "#ESDR FUNCTIONS\n",
    "#\n",
    "#-------------------------------------------------------------------"
   ]
  },
  {
   "cell_type": "code",
   "execution_count": 60,
   "metadata": {
    "collapsed": false
   },
   "outputs": [],
   "source": [
    "def loadFeeds():\n",
    "    for index in range(0,2):\n",
    "        for locale in areas[index]:\n",
    "            for feed in areas[index][locale]:\n",
    "                url = \"https://esdr.cmucreatelab.org/api/v1/feeds/%s\" % feed\n",
    "                ogChannels = json.loads(urllib2.urlopen(url).read())['data']['channelBounds']['channels'].keys()\n",
    "                for chan in ogChannels:\n",
    "                    formattedChannel = slicePrefix(chan)\n",
    "                    if formattedChannel in channels:\n",
    "                        areas[index][locale][feed][formattedChannel] = chan"
   ]
  },
  {
   "cell_type": "code",
   "execution_count": 61,
   "metadata": {
    "collapsed": false
   },
   "outputs": [],
   "source": [
    "def makeDataFrameFromEsdr(feed, formattedChannel, esdrChannel, timeOptions={}):\n",
    "    if timeOptions.get('bounds') == None:\n",
    "        duration = timeOptions.get('duration') or 1\n",
    "        bounds = getEpochTimeBounds(timeOptions.get('day'), duration)\n",
    "    else:\n",
    "        bounds = timeOptions.get('bounds')\n",
    "    url = \"https://esdr.cmucreatelab.org/api/v1/feeds/%s/channels/%s/export?from=%s&to=%s&format=json\" % (feed, esdrChannel, bounds['start'], bounds['end'])\n",
    "    try:\n",
    "        r = json.loads(urllib2.urlopen(url).read())\n",
    "        print \"loaded \" + str(len(r['data'])) + \" data points for feed \" + str(feed) + \", channel \" + esdrChannel + \", time \" + str(bounds['start'])\n",
    "    except:\n",
    "        print \"error loading data from ESDR: feed \" + str(feed) + \", channel \" + esdrChannel + \", time \" + str(bounds['start'])\n",
    "    isXylene = esdrChannel == \"m_p_Xylene,o_Xylene\"\n",
    "    cols = ['Time']\n",
    "    cols.extend(esdrChannel.split(\",\") if isXylene else formattedChannel.split(\",\"))\n",
    "    df = pd.DataFrame(r[\"data\"],columns=cols).set_index(['Time'])\n",
    "    if(isXylene):\n",
    "        df[\"Xylene\"] = df[\"m_p_Xylene\"] + df[\"o_Xylene\"]\n",
    "        del df[\"m_p_Xylene\"]\n",
    "        del df[\"o_Xylene\"]\n",
    "    df = df.replace(\"[^0-9]+\",0,regex=True)\n",
    "    return df\n",
    "#makeDataFrameFromEsdr(4911,\"Benzene\",\"Benzene\",{'day':datetime.date(2017,3,18)})"
   ]
  },
  {
   "cell_type": "code",
   "execution_count": 62,
   "metadata": {
    "collapsed": true
   },
   "outputs": [],
   "source": [
    "#-------------------------------------------------------------------\n",
    "#\n",
    "#REPORTING FUNCTIONS\n",
    "#\n",
    "#-------------------------------------------------------------------"
   ]
  },
  {
   "cell_type": "code",
   "execution_count": 63,
   "metadata": {
    "collapsed": false
   },
   "outputs": [],
   "source": [
    "def compileCalculations(df, feed, chemical):\n",
    "    sampleRate = 5 if isRodeo(feed) else 1\n",
    "    windFeed = 4903 if isRodeo(feed) else feed\n",
    "    t = getFeedType(feed)\n",
    "    dl = detectionLimits[chemical][t]\n",
    "    result = [t, str(dl) + unit(chemical)]\n",
    "    if len(df) == 0:\n",
    "        result.extend(noData(8))\n",
    "    else:\n",
    "        result.extend(maxHourlyAverage(df, windFeed, chemical))\n",
    "        result.append(calcHoursDetected(df, chemical, sampleRate))\n",
    "        result.append(calcHoursAboveHealthLimit(df,chemical, sampleRate))\n",
    "        result.append(calcDailyMean(df, chemical))\n",
    "        result.append(calcDailyMean(df,chemical,dl))\n",
    "    return result\n",
    "#compileCalculations(df,4902,\"Benzene\")"
   ]
  },
  {
   "cell_type": "code",
   "execution_count": 64,
   "metadata": {
    "collapsed": false
   },
   "outputs": [],
   "source": [
    "def fillInThreeMonitorTemplate(calculations, dataHoles):\n",
    "    for i, hole in enumerate(dataHoles):\n",
    "        if i % 3 == 0:\n",
    "            fillDatum(calculations[2],hole)\n",
    "        elif (i-1) % 3 == 0:\n",
    "            fillDatum(calculations[1],hole)\n",
    "        else:\n",
    "            fillDatum(calculations[0],hole)\n",
    "#fillInThreeMonitorTemplate(calculations, dataHoles)"
   ]
  },
  {
   "cell_type": "code",
   "execution_count": 65,
   "metadata": {
    "collapsed": true
   },
   "outputs": [],
   "source": [
    "def fillInTwoMonitorTemplate(calculations, dataHoles):\n",
    "    for i, hole in enumerate(dataHoles):\n",
    "        if i % 2 == 0:\n",
    "            fillDatum(calculations[0],hole)\n",
    "        else:\n",
    "            fillDatum(calculations[1],hole)"
   ]
  },
  {
   "cell_type": "code",
   "execution_count": 66,
   "metadata": {
    "collapsed": false
   },
   "outputs": [
    {
     "name": "stdout",
     "output_type": "stream",
     "text": [
      "loaded 1430 data points for feed 4913, channel Benzene, time 1489734000\n",
      "loaded 1430 data points for feed 4914, channel Benzene, time 1489734000\n",
      "loaded 0 data points for feed 4913, channel Black_Carbon, time 1489734000\n",
      "loaded 1430 data points for feed 4914, channel Black_Carbon, time 1489734000\n",
      "loaded 59 data points for feed 4914, channel Wind_Direction,Wind_Speed_MPH, time 1489752060\n",
      "loaded 0 data points for feed 4913, channel Ethylbenzene, time 1489734000\n",
      "loaded 1430 data points for feed 4914, channel Ethylbenzene, time 1489734000\n",
      "loaded 1430 data points for feed 4913, channel Hydrogen_Sulfide, time 1489734000\n",
      "loaded 1430 data points for feed 4914, channel Hydrogen_Sulfide, time 1489734000\n",
      "loaded 61 data points for feed 4914, channel Wind_Direction,Wind_Speed_MPH, time 1489809900\n",
      "loaded 1430 data points for feed 4913, channel Sulfur_Dioxide, time 1489734000\n",
      "loaded 61 data points for feed 4913, channel Wind_Direction,Wind_Speed_MPH, time 1489781400\n",
      "error loading data from ESDR: feed 4914, channel Sulfur_Dioxide, time 1489734000\n"
     ]
    },
    {
     "ename": "UnboundLocalError",
     "evalue": "local variable 'r' referenced before assignment",
     "output_type": "error",
     "traceback": [
      "\u001b[0;31m---------------------------------------------------------------------------\u001b[0m",
      "\u001b[0;31mUnboundLocalError\u001b[0m                         Traceback (most recent call last)",
      "\u001b[0;32m<ipython-input-66-2604f346f5c6>\u001b[0m in \u001b[0;36m<module>\u001b[0;34m()\u001b[0m\n\u001b[1;32m     14\u001b[0m             \u001b[0mchemCalculations\u001b[0m \u001b[1;33m=\u001b[0m \u001b[1;33m[\u001b[0m\u001b[1;33m]\u001b[0m\u001b[1;33m\u001b[0m\u001b[0m\n\u001b[1;32m     15\u001b[0m             \u001b[1;32mfor\u001b[0m \u001b[0mfeed\u001b[0m \u001b[1;32min\u001b[0m \u001b[0marea\u001b[0m\u001b[1;33m[\u001b[0m\u001b[0mlocale\u001b[0m\u001b[1;33m]\u001b[0m\u001b[1;33m:\u001b[0m\u001b[1;33m\u001b[0m\u001b[0m\n\u001b[0;32m---> 16\u001b[0;31m                 \u001b[0mdf\u001b[0m \u001b[1;33m=\u001b[0m \u001b[0mmakeDataFrameFromEsdr\u001b[0m\u001b[1;33m(\u001b[0m\u001b[0mfeed\u001b[0m\u001b[1;33m,\u001b[0m\u001b[0mchemical\u001b[0m\u001b[1;33m,\u001b[0m\u001b[0maddPrefix\u001b[0m\u001b[1;33m(\u001b[0m\u001b[0mfeed\u001b[0m\u001b[1;33m,\u001b[0m\u001b[0mchemical\u001b[0m\u001b[1;33m)\u001b[0m\u001b[1;33m,\u001b[0m\u001b[1;33m{\u001b[0m\u001b[1;34m'day'\u001b[0m\u001b[1;33m:\u001b[0m\u001b[0mdate\u001b[0m\u001b[1;33m}\u001b[0m\u001b[1;33m)\u001b[0m\u001b[1;33m\u001b[0m\u001b[0m\n\u001b[0m\u001b[1;32m     17\u001b[0m                 \u001b[0mchemCalculations\u001b[0m\u001b[1;33m.\u001b[0m\u001b[0mappend\u001b[0m\u001b[1;33m(\u001b[0m\u001b[0mdeque\u001b[0m\u001b[1;33m(\u001b[0m\u001b[0mcompileCalculations\u001b[0m\u001b[1;33m(\u001b[0m\u001b[0mdf\u001b[0m\u001b[1;33m,\u001b[0m \u001b[0mfeed\u001b[0m\u001b[1;33m,\u001b[0m \u001b[0mchemical\u001b[0m\u001b[1;33m)\u001b[0m\u001b[1;33m)\u001b[0m\u001b[1;33m)\u001b[0m\u001b[1;33m\u001b[0m\u001b[0m\n\u001b[1;32m     18\u001b[0m             \u001b[1;32mfor\u001b[0m \u001b[0mi\u001b[0m \u001b[1;32min\u001b[0m \u001b[0mrange\u001b[0m\u001b[1;33m(\u001b[0m\u001b[1;36m0\u001b[0m\u001b[1;33m,\u001b[0m\u001b[0mlen\u001b[0m\u001b[1;33m(\u001b[0m\u001b[0mchemCalculations\u001b[0m\u001b[1;33m)\u001b[0m\u001b[1;33m)\u001b[0m\u001b[1;33m:\u001b[0m\u001b[1;33m\u001b[0m\u001b[0m\n",
      "\u001b[0;32m<ipython-input-61-88be6d185f90>\u001b[0m in \u001b[0;36mmakeDataFrameFromEsdr\u001b[0;34m(feed, formattedChannel, esdrChannel, timeOptions)\u001b[0m\n\u001b[1;32m     14\u001b[0m     \u001b[0mcols\u001b[0m \u001b[1;33m=\u001b[0m \u001b[1;33m[\u001b[0m\u001b[1;34m'Time'\u001b[0m\u001b[1;33m]\u001b[0m\u001b[1;33m\u001b[0m\u001b[0m\n\u001b[1;32m     15\u001b[0m     \u001b[0mcols\u001b[0m\u001b[1;33m.\u001b[0m\u001b[0mextend\u001b[0m\u001b[1;33m(\u001b[0m\u001b[0mesdrChannel\u001b[0m\u001b[1;33m.\u001b[0m\u001b[0msplit\u001b[0m\u001b[1;33m(\u001b[0m\u001b[1;34m\",\"\u001b[0m\u001b[1;33m)\u001b[0m \u001b[1;32mif\u001b[0m \u001b[0misXylene\u001b[0m \u001b[1;32melse\u001b[0m \u001b[0mformattedChannel\u001b[0m\u001b[1;33m.\u001b[0m\u001b[0msplit\u001b[0m\u001b[1;33m(\u001b[0m\u001b[1;34m\",\"\u001b[0m\u001b[1;33m)\u001b[0m\u001b[1;33m)\u001b[0m\u001b[1;33m\u001b[0m\u001b[0m\n\u001b[0;32m---> 16\u001b[0;31m     \u001b[0mdf\u001b[0m \u001b[1;33m=\u001b[0m \u001b[0mpd\u001b[0m\u001b[1;33m.\u001b[0m\u001b[0mDataFrame\u001b[0m\u001b[1;33m(\u001b[0m\u001b[0mr\u001b[0m\u001b[1;33m[\u001b[0m\u001b[1;34m\"data\"\u001b[0m\u001b[1;33m]\u001b[0m\u001b[1;33m,\u001b[0m\u001b[0mcolumns\u001b[0m\u001b[1;33m=\u001b[0m\u001b[0mcols\u001b[0m\u001b[1;33m)\u001b[0m\u001b[1;33m.\u001b[0m\u001b[0mset_index\u001b[0m\u001b[1;33m(\u001b[0m\u001b[1;33m[\u001b[0m\u001b[1;34m'Time'\u001b[0m\u001b[1;33m]\u001b[0m\u001b[1;33m)\u001b[0m\u001b[1;33m\u001b[0m\u001b[0m\n\u001b[0m\u001b[1;32m     17\u001b[0m     \u001b[1;32mif\u001b[0m\u001b[1;33m(\u001b[0m\u001b[0misXylene\u001b[0m\u001b[1;33m)\u001b[0m\u001b[1;33m:\u001b[0m\u001b[1;33m\u001b[0m\u001b[0m\n\u001b[1;32m     18\u001b[0m         \u001b[0mdf\u001b[0m\u001b[1;33m[\u001b[0m\u001b[1;34m\"Xylene\"\u001b[0m\u001b[1;33m]\u001b[0m \u001b[1;33m=\u001b[0m \u001b[0mdf\u001b[0m\u001b[1;33m[\u001b[0m\u001b[1;34m\"m_p_Xylene\"\u001b[0m\u001b[1;33m]\u001b[0m \u001b[1;33m+\u001b[0m \u001b[0mdf\u001b[0m\u001b[1;33m[\u001b[0m\u001b[1;34m\"o_Xylene\"\u001b[0m\u001b[1;33m]\u001b[0m\u001b[1;33m\u001b[0m\u001b[0m\n",
      "\u001b[0;31mUnboundLocalError\u001b[0m: local variable 'r' referenced before assignment"
     ]
    }
   ],
   "source": [
    "loadFeeds()\n",
    "pacific = pytz.timezone(\"US/Pacific\")\n",
    "dt = datetime.datetime.now(tz=pytz.utc).astimezone(pacific)\n",
    "date = dt.date() - datetime.timedelta(days=1)\n",
    "dateDir = 'archived/' + date.strftime('%Y-%m-%d')\n",
    "if not os.path.exists(dateDir):\n",
    "    os.makedirs(dateDir)\n",
    "for a, area in enumerate(areas):\n",
    "    for locale in area:\n",
    "        allCalculations = []\n",
    "        for chemical in channels:\n",
    "            if a == 1 and (chemical == \"Ethylbenzene\" or chemical == \"Black_Carbon\"):\n",
    "                continue\n",
    "            chemCalculations = []\n",
    "            for feed in area[locale]:\n",
    "                df = makeDataFrameFromEsdr(feed,chemical,addPrefix(feed,chemical),{'day':date})\n",
    "                chemCalculations.append(deque(compileCalculations(df, feed, chemical)))\n",
    "            for i in range(0,len(chemCalculations)):\n",
    "                if i > len(allCalculations) - 1:\n",
    "                    allCalculations.append(deque([]))\n",
    "                allCalculations[i].extend(chemCalculations[i])\n",
    "        areaName = \"Richmond\" if a==0 else \"Rodeo\"\n",
    "        soup = BeautifulSoup(open(\"templates/\" + areaName  + \".html\"), \"lxml\")\n",
    "        prettyDate = \"Day of \" + date.strftime('%B %d, %Y')\n",
    "        for hole in soup.findAll(\"td\", class_='locale'):\n",
    "            hole.string = locale\n",
    "        for hole in soup.findAll(\"td\", class_='date'):\n",
    "            hole.string = prettyDate\n",
    "        dataHoles = deque(soup.findAll(\"td\", class_='data'))\n",
    "        if a==0:\n",
    "            fillInTwoMonitorTemplate(allCalculations, dataHoles)\n",
    "        elif a==1:\n",
    "            fillInThreeMonitorTemplate(allCalculations,dataHoles)\n",
    "\n",
    "        html = soup.prettify(\"utf-8\")\n",
    "        outfile = 'yesterday/' + re.sub('\\W+', '_', locale) + '.html'\n",
    "        with open(outfile, \"wb\") as file:\n",
    "            file.write(html)\n",
    "        archived = 'archived/' + date.strftime('%Y-%m-%d') +'/'+ re.sub('\\W+', '_', locale) + '.html'\n",
    "        with open(archived, \"wb\") as file:\n",
    "            file.write(html)"
   ]
  },
  {
   "cell_type": "code",
   "execution_count": null,
   "metadata": {
    "collapsed": true
   },
   "outputs": [],
   "source": []
  }
 ],
 "metadata": {
  "anaconda-cloud": {},
  "kernelspec": {
   "display_name": "Python [default]",
   "language": "python",
   "name": "python2"
  },
  "language_info": {
   "codemirror_mode": {
    "name": "ipython",
    "version": 2
   },
   "file_extension": ".py",
   "mimetype": "text/x-python",
   "name": "python",
   "nbconvert_exporter": "python",
   "pygments_lexer": "ipython2",
   "version": "2.7.12"
  }
 },
 "nbformat": 4,
 "nbformat_minor": 1
}
